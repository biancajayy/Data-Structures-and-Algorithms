{
  "nbformat": 4,
  "nbformat_minor": 0,
  "metadata": {
    "colab": {
      "provenance": [],
      "include_colab_link": true
    },
    "kernelspec": {
      "name": "python3",
      "display_name": "Python 3"
    },
    "language_info": {
      "name": "python"
    }
  },
  "cells": [
    {
      "cell_type": "markdown",
      "metadata": {
        "id": "view-in-github",
        "colab_type": "text"
      },
      "source": [
        "<a href=\"https://colab.research.google.com/github/biancajayy/Data-Structures-and-Algorithms/blob/master/Hacklytics2024.ipynb\" target=\"_parent\"><img src=\"https://colab.research.google.com/assets/colab-badge.svg\" alt=\"Open In Colab\"/></a>"
      ]
    },
    {
      "cell_type": "markdown",
      "source": [
        "# **Athlete Forecast**\n",
        "\n",
        "Simplifying the college football recruitment process by analyzing high school players' inputted statistics, including height, weight, rating, and stars. Easy Recruit outputs existing collegiate players who resembled similar qualities during their time of college recruitment.\n",
        "\n",
        "For this portion of our project, we will be focusing on the Wide Receiver (WR) position."
      ],
      "metadata": {
        "id": "P4tLsvGMDo6s"
      }
    },
    {
      "cell_type": "markdown",
      "source": [
        "**High School Recruits Statistics Dataset**\n",
        "\n",
        "This dataset was extrapolated from the \"College Football Data\" website (\"https://collegefootballdata.com/exporter/recruiting/players?year=2020&classification=HighSchool&position=WR\"). We merged HS recruitment datasets from 2019-2023 to gather the 4 years of recruiting that would comprise the current 2023 NCAA players.\n",
        "\n",
        "The most important criteria from each athlete provided includes:\n",
        "\n",
        "1.   Height\n",
        "2.   Weight\n",
        "3.   Stars (1-5)\n",
        "4.   Rating"
      ],
      "metadata": {
        "id": "tqzjLJjaj7kn"
      }
    },
    {
      "cell_type": "code",
      "source": [
        "import pandas as pd\n",
        "import numpy as np"
      ],
      "metadata": {
        "id": "SpR0ETshTHKG"
      },
      "execution_count": null,
      "outputs": []
    },
    {
      "cell_type": "code",
      "source": [
        "url = 'https://raw.githubusercontent.com/jeslyn-guo/Hacklytics2024/main/HSRecruitStats.csv'\n",
        "hsDf = pd.read_csv(url)\n",
        "hsDf = hsDf.drop(columns=['Name','Unnamed: 6','Unnamed: 11','Id','AthleteId'])\n",
        "hsDf = hsDf.drop(hsDf.index[1973:2476])"
      ],
      "metadata": {
        "id": "aVZDet79f9jd"
      },
      "execution_count": null,
      "outputs": []
    },
    {
      "cell_type": "markdown",
      "source": [
        "# **How Our Application Works**\n",
        "\n",
        "\n",
        "1.   College recruiter inputs the height, weight, stars, and rating of a high school prospect\n",
        "2.   Easy Recruit takes in the 4 criteria and compares against dataset of ~2000 Wide Receivers from the 2023 season\n",
        "3.   Collegiate players that resembled similar characteristics to high school prospects are outputted with\n",
        "*   height & weight as a stronger factor\n",
        "*   stars & rating as a stronger factor\n",
        "\n"
      ],
      "metadata": {
        "id": "WVflmo0Rpwpn"
      }
    },
    {
      "cell_type": "code",
      "source": [
        "#Transform variables needed for calculations into arrays\n",
        "stat_columns = ['Full Name','Height','Weight','Stars','Rating']\n",
        "array_selected = hsDf[stat_columns[1:5]]\n",
        "array_selected_with_name = hsDf[stat_columns]\n",
        "hs_stats_array = array_selected.to_numpy()\n",
        "hs_stats_array_with_name = array_selected_with_name.to_numpy()\n",
        "print(hs_stats_array)"
      ],
      "metadata": {
        "id": "SKGJN0zjjglT",
        "colab": {
          "base_uri": "https://localhost:8080/"
        },
        "outputId": "5221d206-6d3a-40ac-e02e-b7ddcc310e41"
      },
      "execution_count": null,
      "outputs": [
        {
          "output_type": "stream",
          "name": "stdout",
          "text": [
            "[[ 69.     172.       5.       0.9971]\n",
            " [ 74.     210.       5.       0.9895]\n",
            " [ 72.     170.       5.       0.9872]\n",
            " ...\n",
            " [ 76.     180.       1.       0.6996]\n",
            " [ 72.     165.       3.       0.8499]\n",
            " [ 71.     175.       3.       0.8104]]\n"
          ]
        }
      ]
    },
    {
      "cell_type": "markdown",
      "source": [
        "**Using a Scaler to normalize the data**\n",
        "\n",
        "To prepare the data for comparison, we normalize the height, weight, stars, and ratings values, so they each have the same weight. We did so by importing a Scaler from the sklearn.preprocessing package and performing the fit_transform method.\n",
        "\n",
        "For comparison, view the printed array above and below."
      ],
      "metadata": {
        "id": "1JEmkfIgoO7X"
      }
    },
    {
      "cell_type": "code",
      "source": [
        "#Normalize values in array (height, weight, stars, rating)\n",
        "from sklearn.preprocessing import StandardScaler\n",
        "\n",
        "#Create a Scaler object\n",
        "scaler = StandardScaler()\n",
        "\n",
        "#Standardize to proceed in Euclidean Distance calculations\n",
        "standardized_data = scaler.fit_transform(array_selected)\n",
        "print(standardized_data)"
      ],
      "metadata": {
        "id": "Ehkt7SthhZeM",
        "colab": {
          "base_uri": "https://localhost:8080/"
        },
        "outputId": "a1463c91-5ca7-428d-bcc3-16b4e45c2dc2"
      },
      "execution_count": null,
      "outputs": [
        {
          "output_type": "stream",
          "name": "stdout",
          "text": [
            "[[-1.66690101 -0.68391064  3.35462523  2.96745979]\n",
            " [ 0.50170253  2.02449397  3.35462523  2.82000864]\n",
            " [-0.36573889 -0.82645825  3.35462523  2.77538527]\n",
            " ...\n",
            " [ 1.36914394 -0.11372019 -3.31910865 -2.80447665]\n",
            " [-0.36573889 -1.18282727  0.01775829  0.11156384]\n",
            " [-0.79945959 -0.47008922  0.01775829 -0.6547941 ]]\n"
          ]
        }
      ]
    },
    {
      "cell_type": "markdown",
      "source": [
        "# **Euclidean Distance Calculations**\n",
        "\n",
        "We can find the collegiate athlete that most resembles a prospective athlete through a Euclidean Distance Calculation.\n",
        "\n",
        "We first give the various categories differing weights. This caters to recruiters' preferences to either an athlete with more similar physiques (height & weight) or with more similar ratings."
      ],
      "metadata": {
        "id": "7DeNggD6tyDA"
      }
    },
    {
      "cell_type": "code",
      "source": [
        "#Player Data Input\n",
        "appendedArr = np.array([73,200,4,.951])\n",
        "\n",
        "heightIndex = 0\n",
        "weightIndex = 1\n",
        "starIndex = 2\n",
        "ratingIndex = 3\n",
        "\n",
        "#Append input data to dataset to normalize values\n",
        "result = np.vstack([array_selected, appendedArr])\n",
        "normalizedRes = scaler.fit_transform(result)\n",
        "\n",
        "skillRes = normalizedRes\n",
        "heightWeightRes = normalizedRes\n",
        "\n",
        "#Skill Calculations\n",
        "#add a weight of 5 to star data\n",
        "skillRes[:, starIndex] *= 3\n",
        "skillRes[:, ratingIndex] *= 6\n",
        "\n",
        "#label standardized data\n",
        "normalizedSkill = skillRes[-1]\n",
        "skillRes = skillRes[:-1]\n",
        "\n",
        "Skill_distances = np.linalg.norm(normalizedSkill - skillRes, axis=1)\n",
        "skill_indeces = np.argsort(Skill_distances)[:10]\n",
        "\n",
        "#Height and Weight Calculations\n",
        "heightWeightRes[:, heightIndex] *= 8\n",
        "heightWeightRes[:, weightIndex] *= 8\n",
        "heightWeightRes[:, starIndex] *= 2\n",
        "heightWeightRes[:, ratingIndex] *= 2\n",
        "\n",
        "#label standardized data\n",
        "normalizedHeightWeight = heightWeightRes[-1]\n",
        "heightWeightRes = heightWeightRes[:-1]\n",
        "\n",
        "HW_distances = np.linalg.norm(normalizedHeightWeight - heightWeightRes, axis=1)\n",
        "HW_indeces = np.argsort(HW_distances)[:10]\n",
        "\n",
        "print(skill_indeces)\n",
        "#names_by_skill = hs_stats_array_with_name[skill_indeces][0]\n",
        "#print(names_by_skill)\n",
        "\n",
        "print(HW_indeces)\n",
        "#names_by_HW = hs_stats_array_with_name[HW_indeces][0]\n",
        "#print(names_by_HW)"
      ],
      "metadata": {
        "colab": {
          "base_uri": "https://localhost:8080/"
        },
        "id": "v8YRHzCi6RwX",
        "outputId": "2a31c88e-de78-49fd-e09a-04a296305469"
      },
      "execution_count": null,
      "outputs": [
        {
          "output_type": "stream",
          "name": "stdout",
          "text": [
            "[1493  600  602  935  934  603  601   18 1489   15]\n",
            "[1493  602  603  600  593   23  604  948 1500  929]\n"
          ]
        }
      ]
    },
    {
      "cell_type": "code",
      "source": [
        "ESPN = 'https://raw.githubusercontent.com/jeslyn-guo/Hacklytics2024/main/ESPN%20WR%20Stats.csv'\n",
        "ESPNdf=pd.read_csv(ESPN)\n",
        "ESPNdf = ESPNdf.drop(columns=['First Name', 'Last name'])\n",
        "ESPNdf.head(20)\n",
        "counter = 0\n",
        "\n",
        "\n",
        "for index in skill_indeces:\n",
        "  statsPlayer = hs_stats_array_with_name[index][0]\n",
        "  player_stats_skill = ESPNdf[ESPNdf['Name'] == statsPlayer]\n",
        "  if player_stats_skill.empty and (counter <= 9):\n",
        "    print(statsPlayer + ' not in csv, moving onto next')\n",
        "    counter += 1\n",
        "    continue\n",
        "  elif (counter <= 9):\n",
        "      print(player_stats_skill)\n",
        "      name = player_stats_skill.iloc[0,1]\n",
        "      rushingYD = player_stats_skill.iloc[0,3]\n",
        "      TD = player_stats_skill.iloc[0,6]\n",
        "      print(rushingYD)\n",
        "      print(name)\n",
        "      print(TD)\n",
        "\n",
        "      break\n",
        "if (counter == 10):\n",
        "  print('Your inputted player data did not resemble any collegiate players with regards to rating & stars.')\n",
        "\n",
        "for index in HW_indeces:\n",
        "  hWPlayer = hs_stats_array_with_name[index][0]\n",
        "  player_stats_HW = ESPNdf[ESPNdf['Name'] == hWPlayer]\n",
        "  if player_stats_HW.empty and (counter <= 9):\n",
        "    print(hWPlayer + ' not in csv, moving onto next')\n",
        "    counter += 1\n",
        "    continue\n",
        "  elif (counter <= 9):\n",
        "    break\n",
        "if (counter == 10):\n",
        "  print('Your inputted player data did not resemble any collegiate players with regards to height & weight.')\n",
        "\n",
        "\n",
        "if (statsPlayer == hWPlayer):\n",
        "  print(hWPlayer + ' is a match, based upon similarities in all categories.')\n",
        "  print(player_stats_skill)\n",
        "else:\n",
        "  print(statsPlayer + ' is a match, based upon similarities in stars and ratings.')\n",
        "  print(player_stats_skill)\n",
        "\n",
        "  print(hWPlayer + ' is a match, based upon similarities in height and weight.')\n",
        "  print(player_stats_HW)"
      ],
      "metadata": {
        "id": "uV5K64YDcA6y",
        "colab": {
          "base_uri": "https://localhost:8080/"
        },
        "outputId": "b6e51f10-8035-42c7-c374-a9b5f5dbba20"
      },
      "execution_count": null,
      "outputs": [
        {
          "output_type": "stream",
          "name": "stdout",
          "text": [
            "David Bell not in csv, moving onto next\n",
            "          RK         Name  REC YDS   AVG   LNG   TD\n",
            "1047  1042.0  Destyn Hill  6.0  87  14.5  30.0  0.0\n",
            "87\n",
            "Destyn Hill\n",
            "0.0\n",
            "David Bell not in csv, moving onto next\n",
            "Destyn Hill is a match, based upon similarities in stars and ratings.\n",
            "          RK         Name  REC YDS   AVG   LNG   TD\n",
            "1047  1042.0  Destyn Hill  6.0  87  14.5  30.0  0.0\n",
            "Jalil Farooq is a match, based upon similarities in height and weight.\n",
            "        RK          Name   REC  YDS   AVG   LNG   TD\n",
            "112  113.0  Jalil Farooq  45.0  694  15.4  49.0  2.0\n"
          ]
        }
      ]
    }
  ]
}